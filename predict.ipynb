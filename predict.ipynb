{
 "cells": [
  {
   "cell_type": "code",
   "execution_count": 1,
   "id": "8715531f-7d87-4074-a444-fae948f887c3",
   "metadata": {},
   "outputs": [],
   "source": [
    "import numpy as np\n",
    "import pandas as pd\n",
    "import joblib"
   ]
  },
  {
   "cell_type": "markdown",
   "id": "8aa0a738-bcc3-4db7-987e-8e507a9b5973",
   "metadata": {},
   "source": [
    "## <u>Funções para Pre-processamento:</u>"
   ]
  },
  {
   "cell_type": "code",
   "execution_count": 2,
   "id": "d2c52780-f821-4708-9c5a-4a2eca143026",
   "metadata": {},
   "outputs": [],
   "source": [
    "# Função para padronizar os itens da coluna Certificate\n",
    "def padronizar_Certificate(cert):\n",
    "    # Classificação Livre, Todos os públicos.\n",
    "    if cert in ['U', 'G', 'TV-G']:\n",
    "        return 'G' \n",
    "    # Parental Guidance. Orientação dos pais sugerida.\n",
    "    elif cert in ['PG', 'GP', 'TV-PG', '12A', '12', 12, 'UA', 'U/A']:\n",
    "        return 'PG' \n",
    "    # Parents Strongly Cautioned. Conteúdo inapropriado para crianças menores de 13 anos.\n",
    "    elif cert in ['PG-13', 'TV-13', 'TV-14', '13', '14', '15', '16', 13, 14, 15, 16]:\n",
    "        return 'PG-13' \n",
    "    # Mature Audience Only. Apenas para adultos.\n",
    "    elif cert in ['R', 'A', 'TV-MA', 'NC-17', '17', '18', 17, 18]:\n",
    "        return 'R'\n",
    "    # Unrated, Passed, Approved, NAN, outros. Filmes sem classificação.\n",
    "    else: \n",
    "        return 'Unrated'"
   ]
  },
  {
   "cell_type": "code",
   "execution_count": 3,
   "id": "cf1889d6-051c-4716-a00c-503066e230e4",
   "metadata": {},
   "outputs": [],
   "source": [
    "# Função para dividir os gêneros em listas\n",
    "def split_genres(X):\n",
    "    X = X.copy()\n",
    "    X['Genre'] = X['Genre'].apply(lambda x: x.split(', '))\n",
    "    return X"
   ]
  },
  {
   "cell_type": "code",
   "execution_count": 4,
   "id": "15226795-3cc2-4d49-af55-ef1c375919b2",
   "metadata": {},
   "outputs": [],
   "source": [
    "# Função para agrupar elenco em uma lista\n",
    "def combine_cast(X):\n",
    "    X = X.copy()\n",
    "    X['Elenco'] = X[['Star1', 'Star2', 'Star3', 'Star4']].values.tolist()\n",
    "    return X.drop(columns=['Star1', 'Star2', 'Star3', 'Star4'])"
   ]
  },
  {
   "cell_type": "code",
   "execution_count": 5,
   "id": "96801f56-a35d-4927-b7d4-d25d908a50d9",
   "metadata": {},
   "outputs": [],
   "source": [
    "# Função para o pre-processamento dos dados a testar (Utiliza as 3 funções acima):\n",
    "def preprocess(new_df):\n",
    "    new_df = new_df.copy()\n",
    "    \n",
    "    if new_df['Released_Year'].dtype == 'object':\n",
    "        new_df['Released_Year'] = pd.to_numeric(new_df['Released_Year'], errors='coerce')\n",
    "        mode_value = new_df['Released_Year'].mode()[0]\n",
    "        new_df['Released_Year'] = new_df['Released_Year'].fillna(mode_value)\n",
    "        new_df['Released_Year'] = new_df['Released_Year'].astype(int)\n",
    "    \n",
    "    if new_df['Runtime'].dtype == 'object':\n",
    "        new_df['Runtime'] = new_df['Runtime'].apply(lambda x: x.replace(' min', '') if isinstance(x,str) else x)\n",
    "        new_df['Runtime'] = new_df['Runtime'].astype(int)\n",
    "    \n",
    "    if new_df['Gross'].dtype == 'object':\n",
    "        new_df['Gross'] = new_df['Gross'].str.replace(',', '')\n",
    "        new_df['Gross'] = new_df['Gross'].astype(float)\n",
    "\n",
    "    # Função definida anteriormente para padronizar classificação (Certificate)\n",
    "    new_df['Certificate'] = new_df['Certificate'].apply(lambda cert: padronizar_Certificate(cert))\n",
    "    # Função definida anteriormente para dividir gêneros\n",
    "    new_df = split_genres(new_df)  \n",
    "    # Função definida anteriormente para combinar elenco\n",
    "    new_df = combine_cast(new_df)  \n",
    "    \n",
    "    return new_df"
   ]
  },
  {
   "cell_type": "code",
   "execution_count": 6,
   "id": "38004fa7-40a9-4551-b849-c9e3e5134123",
   "metadata": {},
   "outputs": [],
   "source": [
    "# Função para transformar gêneros e elenco com o MultiLabelBinarizer ajustado\n",
    "def transform_genres_and_cast(X):\n",
    "    X = X.copy()\n",
    "    genres_transformed = mlb_genre.transform(X['Genre'])\n",
    "    cast_transformed = mlb_cast.transform(X['Elenco'])\n",
    "    \n",
    "    genres_df = pd.DataFrame(genres_transformed, columns=mlb_genre.classes_)\n",
    "    cast_df = pd.DataFrame(cast_transformed, columns=mlb_cast.classes_)\n",
    "    \n",
    "    X.reset_index(drop=True, inplace=True)\n",
    "    genres_df.reset_index(drop=True, inplace=True)\n",
    "    cast_df.reset_index(drop=True, inplace=True)\n",
    "    \n",
    "    return pd.concat([X.drop(columns=['Genre', 'Elenco']), genres_df, cast_df], axis=1)"
   ]
  },
  {
   "cell_type": "markdown",
   "id": "691447c1-363d-433d-b2fe-c6abb782b917",
   "metadata": {},
   "source": [
    "</br></br>"
   ]
  },
  {
   "cell_type": "markdown",
   "id": "cd8d67d3-bd1d-4a60-9810-ad47c4fc8239",
   "metadata": {},
   "source": [
    "## <u>Carregando o Modelo:</u>"
   ]
  },
  {
   "cell_type": "code",
   "execution_count": 7,
   "id": "1abd9e93-11b9-498b-b81f-b10cd1a0e528",
   "metadata": {},
   "outputs": [],
   "source": [
    "# Carregar o modelo e os binarizadores salvos\n",
    "loaded_model, mlb_genre, mlb_cast = joblib.load('modelo_imdb.pkl')"
   ]
  },
  {
   "cell_type": "code",
   "execution_count": 8,
   "id": "112cf4f9-1a38-49e3-ac97-6859ab4230fe",
   "metadata": {},
   "outputs": [
    {
     "name": "stdout",
     "output_type": "stream",
     "text": [
      "Pipeline(steps=[('genre_cast_transformer',\n",
      "                 FunctionTransformer(func=<function transform_genres_and_cast at 0x0000022DAB484EE0>)),\n",
      "                ('preprocessor',\n",
      "                 ColumnTransformer(n_jobs=-1, remainder='passthrough',\n",
      "                                   sparse_threshold=0,\n",
      "                                   transformers=[('overview', TfidfVectorizer(),\n",
      "                                                  'Overview'),\n",
      "                                                 ('num', StandardScaler(),\n",
      "                                                  ['Released_Year', 'Runtime',\n",
      "                                                   'Meta_score', 'No_of_Votes',\n",
      "                                                   'Gross']),\n",
      "                                                 ('cert',\n",
      "                                                  OneHotEncoder(handle_unknown='ignore'),\n",
      "                                                  ['Certificate']),\n",
      "                                                 ('director',\n",
      "                                                  OneHotEncoder(handle_unknown='ignore'),\n",
      "                                                  ['Director'])])),\n",
      "                ('regressor', LinearRegression())])\n"
     ]
    }
   ],
   "source": [
    "# Verifique se o modelo foi carregado corretamente\n",
    "print(loaded_model)"
   ]
  },
  {
   "cell_type": "markdown",
   "id": "8c0405a0-7c60-443d-8906-360c66b173c6",
   "metadata": {},
   "source": [
    "## <u>Carregando e processando os Dados:</u>"
   ]
  },
  {
   "cell_type": "code",
   "execution_count": 9,
   "id": "cc814077-7ef9-4bba-b290-77e5c2d7629f",
   "metadata": {},
   "outputs": [],
   "source": [
    "# Dados de entrada como um dicionário\n",
    "data = {\n",
    "    'Series_Title': 'The Shawshank Redemption',\n",
    "     'Released_Year': '1994',\n",
    "     'Certificate': 'A',\n",
    "     'Runtime': '142 min',\n",
    "     'Genre': 'Drama',\n",
    "     'Overview': 'Two imprisoned men bond over a number of years, finding solace and eventual redemption through acts of common decency.',\n",
    "     'Meta_score': 80.0,\n",
    "     'Director': 'Frank Darabont',\n",
    "     'Star1': 'Tim Robbins',\n",
    "     'Star2': 'Morgan Freeman',\n",
    "     'Star3': 'Bob Gunton',\n",
    "     'Star4': 'William Sadler',\n",
    "     'No_of_Votes': 2343110,\n",
    "     'Gross': '28,341,469'\n",
    "}"
   ]
  },
  {
   "cell_type": "code",
   "execution_count": 10,
   "id": "55f034a3-b82f-4e44-bfea-435cd6085a2f",
   "metadata": {},
   "outputs": [],
   "source": [
    "# Converter o dicionário para DataFrame\n",
    "test_df = pd.DataFrame([data])"
   ]
  },
  {
   "cell_type": "code",
   "execution_count": 11,
   "id": "56ed0fcd-cb8c-46d7-904c-b5e31774a90b",
   "metadata": {},
   "outputs": [],
   "source": [
    "# Função para o pre-processamento dos dados a testar:\n",
    "test_df = preprocess(test_df)"
   ]
  },
  {
   "cell_type": "code",
   "execution_count": 12,
   "id": "9e404cb5-0166-4ef8-b2e3-92badf5ed3ee",
   "metadata": {},
   "outputs": [
    {
     "data": {
      "text/html": [
       "<div>\n",
       "<style scoped>\n",
       "    .dataframe tbody tr th:only-of-type {\n",
       "        vertical-align: middle;\n",
       "    }\n",
       "\n",
       "    .dataframe tbody tr th {\n",
       "        vertical-align: top;\n",
       "    }\n",
       "\n",
       "    .dataframe thead th {\n",
       "        text-align: right;\n",
       "    }\n",
       "</style>\n",
       "<table border=\"1\" class=\"dataframe\">\n",
       "  <thead>\n",
       "    <tr style=\"text-align: right;\">\n",
       "      <th></th>\n",
       "      <th>Series_Title</th>\n",
       "      <th>Released_Year</th>\n",
       "      <th>Certificate</th>\n",
       "      <th>Runtime</th>\n",
       "      <th>Genre</th>\n",
       "      <th>Overview</th>\n",
       "      <th>Meta_score</th>\n",
       "      <th>Director</th>\n",
       "      <th>No_of_Votes</th>\n",
       "      <th>Gross</th>\n",
       "      <th>Elenco</th>\n",
       "    </tr>\n",
       "  </thead>\n",
       "  <tbody>\n",
       "    <tr>\n",
       "      <th>0</th>\n",
       "      <td>The Shawshank Redemption</td>\n",
       "      <td>1994</td>\n",
       "      <td>R</td>\n",
       "      <td>142</td>\n",
       "      <td>[Drama]</td>\n",
       "      <td>Two imprisoned men bond over a number of years...</td>\n",
       "      <td>80.0</td>\n",
       "      <td>Frank Darabont</td>\n",
       "      <td>2343110</td>\n",
       "      <td>28341469.0</td>\n",
       "      <td>[Tim Robbins, Morgan Freeman, Bob Gunton, Will...</td>\n",
       "    </tr>\n",
       "  </tbody>\n",
       "</table>\n",
       "</div>"
      ],
      "text/plain": [
       "               Series_Title  Released_Year Certificate  Runtime    Genre  \\\n",
       "0  The Shawshank Redemption           1994           R      142  [Drama]   \n",
       "\n",
       "                                            Overview  Meta_score  \\\n",
       "0  Two imprisoned men bond over a number of years...        80.0   \n",
       "\n",
       "         Director  No_of_Votes       Gross  \\\n",
       "0  Frank Darabont      2343110  28341469.0   \n",
       "\n",
       "                                              Elenco  \n",
       "0  [Tim Robbins, Morgan Freeman, Bob Gunton, Will...  "
      ]
     },
     "execution_count": 12,
     "metadata": {},
     "output_type": "execute_result"
    }
   ],
   "source": [
    "test_df"
   ]
  },
  {
   "cell_type": "markdown",
   "id": "3a3585e7-9fd3-4efa-aefc-64bffbfb4769",
   "metadata": {},
   "source": [
    "## <u>Fazendo a previsão:</u>"
   ]
  },
  {
   "cell_type": "code",
   "execution_count": 13,
   "id": "304607c5-bea7-447e-b79a-a757147e8fdf",
   "metadata": {},
   "outputs": [
    {
     "name": "stderr",
     "output_type": "stream",
     "text": [
      "D:\\Projetos\\lighthouse\\2024-jul\\venv\\lib\\site-packages\\sklearn\\preprocessing\\_label.py:900: UserWarning: unknown class(es) ['Bob Gunton', 'William Sadler'] will be ignored\n",
      "  warnings.warn(\n"
     ]
    }
   ],
   "source": [
    "# Fazer previsões usando o modelo carregado\n",
    "predictions = loaded_model.predict(test_df)"
   ]
  },
  {
   "cell_type": "markdown",
   "id": "c393991f-e33d-4278-9c34-6081472f2485",
   "metadata": {},
   "source": [
    "## <u>Resultado:</u>"
   ]
  },
  {
   "cell_type": "code",
   "execution_count": 14,
   "id": "2ef6aeb8-43e5-4352-a199-46ca409cc2b7",
   "metadata": {},
   "outputs": [
    {
     "name": "stdout",
     "output_type": "stream",
     "text": [
      "Previsões: [9.54907315]\n"
     ]
    }
   ],
   "source": [
    "# Exibir as previsões\n",
    "print(\"Previsões:\", predictions)"
   ]
  }
 ],
 "metadata": {
  "kernelspec": {
   "display_name": "Python 3 (ipykernel)",
   "language": "python",
   "name": "python3"
  },
  "language_info": {
   "codemirror_mode": {
    "name": "ipython",
    "version": 3
   },
   "file_extension": ".py",
   "mimetype": "text/x-python",
   "name": "python",
   "nbconvert_exporter": "python",
   "pygments_lexer": "ipython3",
   "version": "3.10.6"
  }
 },
 "nbformat": 4,
 "nbformat_minor": 5
}
